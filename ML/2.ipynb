{
 "cells": [
  {
   "cell_type": "markdown",
   "metadata": {},
   "source": [
    "# Preprocessing"
   ]
  },
  {
   "cell_type": "code",
   "execution_count": 1,
   "metadata": {},
   "outputs": [
    {
     "name": "stdout",
     "output_type": "stream",
     "text": [
      "Requirement already satisfied: opendatasets in c:\\users\\noopu\\appdata\\local\\programs\\python\\python39\\lib\\site-packages (0.1.22)\n",
      "Requirement already satisfied: tqdm in c:\\users\\noopu\\appdata\\local\\programs\\python\\python39\\lib\\site-packages (from opendatasets) (4.66.1)\n",
      "Requirement already satisfied: kaggle in c:\\users\\noopu\\appdata\\local\\programs\\python\\python39\\lib\\site-packages (from opendatasets) (1.5.16)\n",
      "Requirement already satisfied: click in c:\\users\\noopu\\appdata\\local\\programs\\python\\python39\\lib\\site-packages (from opendatasets) (8.1.7)\n",
      "Requirement already satisfied: colorama in c:\\users\\noopu\\appdata\\local\\programs\\python\\python39\\lib\\site-packages (from click->opendatasets) (0.4.4)\n",
      "Requirement already satisfied: six>=1.10 in c:\\users\\noopu\\appdata\\local\\programs\\python\\python39\\lib\\site-packages (from kaggle->opendatasets) (1.16.0)\n",
      "Requirement already satisfied: certifi in c:\\users\\noopu\\appdata\\local\\programs\\python\\python39\\lib\\site-packages (from kaggle->opendatasets) (2023.7.22)\n",
      "Requirement already satisfied: python-dateutil in c:\\users\\noopu\\appdata\\local\\programs\\python\\python39\\lib\\site-packages (from kaggle->opendatasets) (2.8.2)\n",
      "Requirement already satisfied: requests in c:\\users\\noopu\\appdata\\local\\programs\\python\\python39\\lib\\site-packages (from kaggle->opendatasets) (2.31.0)\n",
      "Requirement already satisfied: python-slugify in c:\\users\\noopu\\appdata\\local\\programs\\python\\python39\\lib\\site-packages (from kaggle->opendatasets) (8.0.1)\n",
      "Requirement already satisfied: urllib3 in c:\\users\\noopu\\appdata\\local\\programs\\python\\python39\\lib\\site-packages (from kaggle->opendatasets) (2.0.7)\n",
      "Requirement already satisfied: bleach in c:\\users\\noopu\\appdata\\local\\programs\\python\\python39\\lib\\site-packages (from kaggle->opendatasets) (3.3.1)\n",
      "Requirement already satisfied: packaging in c:\\users\\noopu\\appdata\\local\\programs\\python\\python39\\lib\\site-packages (from bleach->kaggle->opendatasets) (21.0)\n",
      "Requirement already satisfied: webencodings in c:\\users\\noopu\\appdata\\local\\programs\\python\\python39\\lib\\site-packages (from bleach->kaggle->opendatasets) (0.5.1)\n",
      "Requirement already satisfied: text-unidecode>=1.3 in c:\\users\\noopu\\appdata\\local\\programs\\python\\python39\\lib\\site-packages (from python-slugify->kaggle->opendatasets) (1.3)\n",
      "Requirement already satisfied: charset-normalizer<4,>=2 in c:\\users\\noopu\\appdata\\local\\programs\\python\\python39\\lib\\site-packages (from requests->kaggle->opendatasets) (3.3.2)\n",
      "Requirement already satisfied: idna<4,>=2.5 in c:\\users\\noopu\\appdata\\local\\programs\\python\\python39\\lib\\site-packages (from requests->kaggle->opendatasets) (3.4)\n",
      "Requirement already satisfied: pyparsing>=2.0.2 in c:\\users\\noopu\\appdata\\local\\programs\\python\\python39\\lib\\site-packages (from packaging->bleach->kaggle->opendatasets) (2.4.7)\n",
      "Note: you may need to restart the kernel to use updated packages.\n"
     ]
    },
    {
     "name": "stderr",
     "output_type": "stream",
     "text": [
      "\n",
      "[notice] A new release of pip is available: 23.3.1 -> 23.3.2\n",
      "[notice] To update, run: python.exe -m pip install --upgrade pip\n"
     ]
    }
   ],
   "source": [
    "# download data from kaggle for than need to install opendatasets\n",
    "%pip install opendatasets"
   ]
  },
  {
   "cell_type": "code",
   "execution_count": 2,
   "metadata": {},
   "outputs": [],
   "source": [
    "import opendatasets as od"
   ]
  },
  {
   "cell_type": "code",
   "execution_count": 3,
   "metadata": {},
   "outputs": [],
   "source": [
    "data = 'https://www.kaggle.com/datasets/victorahaji/worlds-air-quality-and-water-pollution-dataset'"
   ]
  }
 ],
 "metadata": {
  "kernelspec": {
   "display_name": "Python 3",
   "language": "python",
   "name": "python3"
  },
  "language_info": {
   "codemirror_mode": {
    "name": "ipython",
    "version": 3
   },
   "file_extension": ".py",
   "mimetype": "text/x-python",
   "name": "python",
   "nbconvert_exporter": "python",
   "pygments_lexer": "ipython3",
   "version": "3.9.6"
  }
 },
 "nbformat": 4,
 "nbformat_minor": 2
}
