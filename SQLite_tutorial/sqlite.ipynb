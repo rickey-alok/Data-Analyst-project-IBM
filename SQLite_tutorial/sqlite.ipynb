{
 "cells": [
  {
   "cell_type": "markdown",
   "metadata": {},
   "source": [
    "# Import SQLite module for Database"
   ]
  },
  {
   "cell_type": "code",
   "execution_count": 1,
   "metadata": {},
   "outputs": [],
   "source": [
    "import sqlite3"
   ]
  },
  {
   "cell_type": "markdown",
   "metadata": {},
   "source": [
    "# Creating connection for a database and create a one if not already created"
   ]
  },
  {
   "cell_type": "code",
   "execution_count": 2,
   "metadata": {},
   "outputs": [],
   "source": [
    "connection = sqlite3.connect('HR.db')\n"
   ]
  },
  {
   "cell_type": "markdown",
   "metadata": {},
   "source": [
    "# create a cursor"
   ]
  },
  {
   "cell_type": "code",
   "execution_count": 4,
   "metadata": {},
   "outputs": [],
   "source": [
    "my_cursor = connection.cursor()"
   ]
  },
  {
   "cell_type": "markdown",
   "metadata": {},
   "source": [
    "# excecute a sql command using CURSOR"
   ]
  },
  {
   "cell_type": "code",
   "execution_count": 3,
   "metadata": {},
   "outputs": [
    {
     "ename": "OperationalError",
     "evalue": "table customer already exists",
     "output_type": "error",
     "traceback": [
      "\u001b[1;31m---------------------------------------------------------------------------\u001b[0m",
      "\u001b[1;31mOperationalError\u001b[0m                          Traceback (most recent call last)",
      "\u001b[1;32m~\\AppData\\Local\\Temp/ipykernel_13292/4211533865.py\u001b[0m in \u001b[0;36m<module>\u001b[1;34m\u001b[0m\n\u001b[1;32m----> 1\u001b[1;33m my_cursor.execute(\"\"\"\n\u001b[0m\u001b[0;32m      2\u001b[0m                   CREATE TABLE customer(\n\u001b[0;32m      3\u001b[0m                        \u001b[0mf_name\u001b[0m \u001b[0mtext\u001b[0m\u001b[1;33m,\u001b[0m\u001b[1;33m\u001b[0m\u001b[1;33m\u001b[0m\u001b[0m\n\u001b[0;32m      4\u001b[0m                        \u001b[0ml_name\u001b[0m \u001b[0mtext\u001b[0m\u001b[1;33m,\u001b[0m\u001b[1;33m\u001b[0m\u001b[1;33m\u001b[0m\u001b[0m\n\u001b[0;32m      5\u001b[0m                        \u001b[0memail\u001b[0m \u001b[0mtext\u001b[0m\u001b[1;33m\u001b[0m\u001b[1;33m\u001b[0m\u001b[0m\n",
      "\u001b[1;31mOperationalError\u001b[0m: table customer already exists"
     ]
    }
   ],
   "source": [
    "my_cursor.execute(\"\"\"\n",
    "                  CREATE TABLE customer(\n",
    "                       f_name text,\n",
    "                       l_name text,\n",
    "                       email text\n",
    "    )\"\"\")\n",
    "\n",
    "\n"
   ]
  },
  {
   "cell_type": "code",
   "execution_count": 5,
   "metadata": {},
   "outputs": [
    {
     "data": {
      "text/plain": [
       "<sqlite3.Cursor at 0x269e7fb6340>"
      ]
     },
     "execution_count": 5,
     "metadata": {},
     "output_type": "execute_result"
    }
   ],
   "source": [
    "my_cursor.execute(\"INSERT INTO customer VALUES ('alok', 'ranjan', 'alok.ranjan@gmail.com')\")"
   ]
  },
  {
   "cell_type": "code",
   "execution_count": 6,
   "metadata": {},
   "outputs": [],
   "source": [
    "connection.commit()"
   ]
  },
  {
   "cell_type": "code",
   "execution_count": 12,
   "metadata": {},
   "outputs": [],
   "source": [
    "many_customers = [\n",
    "    ('neha', 'noopur', 'neha@noopur@gmail.com'),\n",
    "    ('ashish', 'ranjan', 'ashish@noopur@gmail.com'),\n",
    "    ('avinash', 'ranjan', 'avinash@noopur@gmail.com'),\n",
    "    ('aarul', 'ranjan', 'aarul@noopur@gmail.com')\n",
    "]"
   ]
  },
  {
   "cell_type": "code",
   "execution_count": 13,
   "metadata": {},
   "outputs": [
    {
     "data": {
      "text/plain": [
       "<sqlite3.Cursor at 0x269e7fb6340>"
      ]
     },
     "execution_count": 13,
     "metadata": {},
     "output_type": "execute_result"
    }
   ],
   "source": [
    "my_cursor.executemany(\"INSERT INTO customer VALUES (?,?,?)\", many_customers)"
   ]
  },
  {
   "cell_type": "code",
   "execution_count": 14,
   "metadata": {},
   "outputs": [],
   "source": [
    "connection.commit()"
   ]
  },
  {
   "cell_type": "code",
   "execution_count": 15,
   "metadata": {},
   "outputs": [
    {
     "name": "stdout",
     "output_type": "stream",
     "text": [
      "('alok', 'ranjan', 'alok.ranjan@gmail.com')\n",
      "('neha', 'noopur', 'neha@noopur@gmail.com')\n",
      "('ashish', 'ranjan', 'neha@noopur@gmail.com')\n",
      "('avinash', 'ranjan', 'neha@noopur@gmail.com')\n",
      "('arul', 'ranjan', 'neha@noopur@gmail.com')\n",
      "('alok', 'ranjan', 'alok.ranjan@gmail.com')\n",
      "('neha', 'noopur', 'neha@noopur@gmail.com')\n",
      "('ashish', 'ranjan', 'neha@noopur@gmail.com')\n",
      "('avinash', 'ranjan', 'neha@noopur@gmail.com')\n",
      "('arul', 'ranjan', 'neha@noopur@gmail.com')\n",
      "('neha', 'noopur', 'neha@noopur@gmail.com')\n",
      "('ashish', 'ranjan', 'ashish@noopur@gmail.com')\n",
      "('avinash', 'ranjan', 'avinash@noopur@gmail.com')\n",
      "('aarul', 'ranjan', 'aarul@noopur@gmail.com')\n"
     ]
    }
   ],
   "source": [
    "my_cursor.execute(\"SELECT * FROM customer\")\n",
    "items = my_cursor.fetchall()\n",
    "\n",
    "for item in items:\n",
    "    print(item)"
   ]
  },
  {
   "cell_type": "code",
   "execution_count": null,
   "metadata": {},
   "outputs": [],
   "source": []
  }
 ],
 "metadata": {
  "kernelspec": {
   "display_name": "Python 3",
   "language": "python",
   "name": "python3"
  },
  "language_info": {
   "codemirror_mode": {
    "name": "ipython",
    "version": 3
   },
   "file_extension": ".py",
   "mimetype": "text/x-python",
   "name": "python",
   "nbconvert_exporter": "python",
   "pygments_lexer": "ipython3",
   "version": "3.9.6"
  }
 },
 "nbformat": 4,
 "nbformat_minor": 2
}
